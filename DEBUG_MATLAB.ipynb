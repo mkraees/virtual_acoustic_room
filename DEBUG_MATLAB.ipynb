{
 "cells": [
  {
   "cell_type": "code",
   "execution_count": 2,
   "id": "5ccda575-fe8b-4f84-a239-3739c807dd09",
   "metadata": {},
   "outputs": [],
   "source": [
    "addpath('/rdma/vast-rdma/vast/mcdermott/msaddler/python-packages/virtual_acoustic_room/src')\n"
   ]
  },
  {
   "cell_type": "code",
   "execution_count": 37,
   "id": "f6748ca8-8e3c-4025-83f9-432c393aaded",
   "metadata": {},
   "outputs": [
    {
     "name": "stdout",
     "output_type": "stream",
     "text": [
      "Warning: The value of local variables may have been changed to match the globals.  Future versions of MATLAB will require that you declare a variable to be global before you use that variable.\n",
      "> In room_impulse_hrtf (line 164)\n",
      "Stage 4\n",
      "Stage 3\n",
      "Stage 2\n",
      "Stage 1\n",
      "Stage 0\n",
      "\n",
      "ans =\n",
      "\n",
      "       22050           2\n",
      "\n"
     ]
    }
   ],
   "source": [
    "walls = [30, 30, 30]; % Large room to minimize reflections and thus computation time\n",
    "head_center = [15, 15, 15];\n",
    "wtypes = [26, 26, 26, 26, 26, 26]; % Anechoic chamber\n",
    "f_samp = 44100;\n",
    "c_snd = 344.5;\n",
    "num_taps = 22050;\n",
    "log_dist = 0;\n",
    "jitter = 1;\n",
    "highpass = 0;\n",
    "dsply = 1;\n",
    "\n",
    "head_azimuth = 80.0;\n",
    "azim = 105.0;\n",
    "elev = 0.0;\n",
    "speaker_dist = 1.4;\n",
    "\n",
    "x = speaker_dist * cosd(elev) .* cosd(azim) + head_center(1);\n",
    "y = speaker_dist * cosd(elev) .* sind(azim) + head_center(2);\n",
    "z = speaker_dist * sind(elev) + head_center(3);\n",
    "src_loc = [x, y, z];\n",
    "\n",
    "tmp = load(\"kemar_hrtfs/hrtfs.mat\");\n",
    "meas_locs = tmp.meas_locs;\n",
    "meas_files = cellstr(tmp.meas_files);\n",
    "meas_sym = 1;\n",
    "\n",
    "d = sqrt(sum((src_loc - head_center) .^ 2));\n",
    "meas_delay = (d / c_snd) * ones(size(meas_files, 1), 1);\n",
    "\n",
    "[h_out, lead_zeros] = room_impulse_hrtf(src_loc, head_center, ...\n",
    "        head_azimuth, meas_locs, meas_files, meas_delay, meas_sym, walls, ...\n",
    "        wtypes, f_samp, c_snd, num_taps, log_dist, jitter, highpass, dsply);\n",
    "\n",
    "audiowrite(char(\"tmp.wav\"), h_out, f_samp);\n",
    "size(h_out)\n"
   ]
  },
  {
   "cell_type": "code",
   "execution_count": null,
   "id": "2e19f7fa-136d-49ce-ac57-1e9d9e9ac155",
   "metadata": {},
   "outputs": [],
   "source": []
  }
 ],
 "metadata": {
  "kernelspec": {
   "display_name": "MATLAB",
   "language": "matlab",
   "name": "imatlab"
  },
  "language_info": {
   "codemirror_mode": "octave",
   "file_extension": ".m",
   "mimetype": "text/x-matlab",
   "name": "matlab",
   "nbconvert_exporter": "imatlab._exporter.MatlabExporter",
   "pygments_lexer": "matlab",
   "version": "9.3.0.713579 (R2017b)"
  }
 },
 "nbformat": 4,
 "nbformat_minor": 5
}
