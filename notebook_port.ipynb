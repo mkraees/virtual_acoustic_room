{
 "cells": [
  {
   "cell_type": "code",
   "execution_count": 51,
   "metadata": {},
   "outputs": [],
   "source": [
    "import os\n",
    "import sys\n",
    "import numpy as np\n",
    "import scipy.interpolate\n",
    "\n",
    "import matplotlib.pyplot as plt"
   ]
  },
  {
   "cell_type": "code",
   "execution_count": 72,
   "metadata": {},
   "outputs": [
    {
     "name": "stdout",
     "output_type": "stream",
     "text": [
      "(2, 6)\n",
      "(2, 6) (2, 21)\n"
     ]
    }
   ],
   "source": [
    "def shapedfilter_hrtf(sdelay, freq, gain, fs, ctap, ctap2):\n",
    "    \"\"\"\n",
    "    \"\"\"\n",
    "    sdelay = sdelay.reshape((-1, 1)) # Ensure sdelay is an M x 1 matrix\n",
    "    assert np.all(sdelay >= 0), \"The sample delay must be positive\"\n",
    "    ntaps = 2 * ctap - 1\n",
    "    N = ctap - 1\n",
    "    fc = 0.9\n",
    "    # Design the non-integer delay filter\n",
    "    x = np.ones((1, ntaps))\n",
    "    x[0, 0] = 0\n",
    "    x = np.matmul(np.ones(sdelay.shape), np.arange(-N, N + 1).reshape((1, -1))) - np.matmul(sdelay, x)\n",
    "    h = 0.5 * fc * (1 + np.cos(np.pi * x / N)) * np.sinc(fc * x)\n",
    "    freq = freq.reshape((-1)) # Ensure freq is a vector\n",
    "    if ctap2 > 1:\n",
    "        df = np.arange(0, ctap2) * (np.pi / (ctap2 - 1)) # Determine FFT points\n",
    "        freq = np.array([-np.spacing(1)] + list(2 * np.pi * freq) + [np.pi])\n",
    "        gain = np.concatenate([gain[:, :1], gain, gain[:, -1:]], axis=1)\n",
    "        # Interpolate reflection frequency-dependence to get gains at FFT points\n",
    "        G = scipy.interpolate.interp1d(freq.reshape([-1]), gain)(df)\n",
    "        # Combine the non-integer delay filter and the wall/sphere filter\n",
    "        G[:, ctap2-1] = np.real(G[:, ctap2-1])\n",
    "        # Transform into appropriate wall transfer function\n",
    "        G = np.concatenate([G, np.conj(G[:, 1:ctap2-1])[:, ::-1]], axis=1)\n",
    "        gt = np.real(np.fft.ifft(G.T, axis=0))\n",
    "        # Zero-pad and FFT\n",
    "        g = np.concatenate([\n",
    "            0.5 * gt[(ctap2-1):(ctap2), :],\n",
    "            gt[ctap2 : (2 * ctap2 - 2), :],\n",
    "            gt[0 : ctap2 - 1, :],\n",
    "            0.5 * gt[(ctap2-1):(ctap2), :],\n",
    "            np.zeros((2 * ctap - 2, gt.shape[1])),\n",
    "        ], axis=0)\n",
    "        G = np.fft.fft(g, axis=0)\n",
    "        # Zero-pad and FFT the delay filter\n",
    "        H = np.fft.fft(\n",
    "            np.concatenate([\n",
    "                h.T,\n",
    "                np.zeros((2 * ctap2 - 2, gt.shape[1])),\n",
    "            ], axis=0),\n",
    "            axis=0\n",
    "        )\n",
    "        # Convolve wall transfer function and delay filter\n",
    "        HOUT = H * G\n",
    "        # Obtain total impulse response\n",
    "        hout = np.real(np.fft.ifft(HOUT, axis=0)).T\n",
    "    else:\n",
    "        # Scale impulse response only if wall reflections are\n",
    "        # frequency-independent and sphere is not present\n",
    "        hout = h * np.matmul(gain[:, 0], np.ones(h[0:1, :].shape))\n",
    "    return hout\n",
    "\n",
    "\n",
    "sdelay = np.array([0.411119294090895, 0.600165773186745])\n",
    "gain = np.array([\n",
    "    [0.013462743344629,0.056313514709473,0.137448031335961,0.278500976009402,0.483982307179293,0.664832635991501],\n",
    "    [0.008750783174009,0.042235136032104,0.112707385695488,0.245080858888274,0.450103545676742,0.638239330551840],\n",
    "])\n",
    "freq = np.array([0.002834467120181,0.005668934240363,0.011337868480726,0.022675736961451,0.045351473922902,0.090702947845805])\n",
    "fs = 44100\n",
    "ctap = 11\n",
    "ctap2 = 33\n",
    "hout = shapedfilter_hrtf(sdelay, freq, gain, fs, ctap, ctap2)\n"
   ]
  },
  {
   "cell_type": "code",
   "execution_count": 73,
   "metadata": {},
   "outputs": [
    {
     "data": {
      "image/png": "[encoded data removed]",
      "text/plain": [
       "<Figure size 640x480 with 1 Axes>"
      ]
     },
     "metadata": {},
     "output_type": "display_data"
    }
   ],
   "source": [
    "fig, ax = plt.subplots()\n",
    "ax.plot(hout.T)\n",
    "plt.show()"
   ]
  },
  {
   "cell_type": "code",
   "execution_count": null,
   "metadata": {},
   "outputs": [],
   "source": []
  }
 ],
 "metadata": {
  "kernelspec": {
   "display_name": "base",
   "language": "python",
   "name": "python3"
  },
  "language_info": {
   "codemirror_mode": {
    "name": "ipython",
    "version": 3
   },
   "file_extension": ".py",
   "mimetype": "text/x-python",
   "name": "python",
   "nbconvert_exporter": "python",
   "pygments_lexer": "ipython3",
   "version": "3.10.9"
  },
  "orig_nbformat": 4
 },
 "nbformat": 4,
 "nbformat_minor": 2
}
