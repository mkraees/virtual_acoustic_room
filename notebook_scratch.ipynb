{
 "cells": [
  {
   "cell_type": "code",
   "execution_count": 1,
   "metadata": {},
   "outputs": [],
   "source": [
    "import os\n",
    "import sys\n",
    "import json\n",
    "import glob\n",
    "import h5py\n",
    "import tqdm\n",
    "import numpy as np\n",
    "import scipy.signal\n",
    "import scipy.interpolate\n",
    "import scipy.io\n",
    "import scipy.io.wavfile\n",
    "import librosa\n",
    "import librosa.display\n",
    "import matlab.engine\n",
    "\n",
    "%matplotlib inline\n",
    "import matplotlib.pyplot as plt\n",
    "import IPython.display as ipd\n",
    "\n",
    "sys.path.append('/om2/user/msaddler/python-packages/msutil')\n",
    "import util_figures\n",
    "import util_stimuli\n",
    "import util_misc\n"
   ]
  },
  {
   "cell_type": "code",
   "execution_count": 2,
   "metadata": {},
   "outputs": [],
   "source": [
    "eng = matlab.engine.start_matlab();\n",
    "eng.addpath('HRTFs/');\n"
   ]
  },
  {
   "cell_type": "code",
   "execution_count": 7,
   "metadata": {},
   "outputs": [
    {
     "name": "stderr",
     "output_type": "stream",
     "text": [
      "100%|██████████| 1/1 [00:10<00:00, 10.44s/it]\n"
     ]
    }
   ],
   "source": [
    "def room_impulse_hrtf(\n",
    "        src_loc,\n",
    "        head_center,\n",
    "        head_azimuth,\n",
    "        walls,\n",
    "        wtypes,\n",
    "        meas_sym=1,\n",
    "        f_samp=44100,\n",
    "        c_snd=344.5,\n",
    "        num_taps=22050,\n",
    "        log_dist=0,\n",
    "        jitter=1,\n",
    "        highpass=1,\n",
    "        dsply=0,\n",
    "        eng=None):\n",
    "    \"\"\"\n",
    "    \"\"\"\n",
    "    meas_locs = eng.load('HRTFs/data_locs.mat')['locs_gardnermartin']\n",
    "    meas_files = eng.cellstr(scipy.io.loadmat('HRTFs/file_names.mat')['gardnermartin_file'].tolist())\n",
    "    L = len(meas_files)\n",
    "    meas_delay = (np.sqrt(np.sum(np.square(src_loc - head_center))) / c_snd) * np.ones(L)\n",
    "    out = eng.room_impulse_hrtf(\n",
    "        matlab.double(src_loc.reshape([1, 3]).tolist()),\n",
    "        matlab.double(head_center.reshape([1, 3]).tolist()),\n",
    "        matlab.double([head_azimuth]),\n",
    "        meas_locs,\n",
    "        meas_files,\n",
    "        matlab.double(meas_delay.reshape([L, 1]).tolist()),\n",
    "        matlab.double([meas_sym]),\n",
    "        matlab.double(walls.reshape([1, 3]).tolist()),\n",
    "        matlab.double(np.array([wtypes]).tolist()),\n",
    "        matlab.double([f_samp]),\n",
    "        matlab.double([c_snd]),\n",
    "        matlab.double([num_taps]),\n",
    "        matlab.double([log_dist]),\n",
    "        matlab.double([jitter]),\n",
    "        matlab.double([highpass]),\n",
    "        matlab.double([dsply]))\n",
    "    return out\n",
    "\n",
    "src_loc = np.array([1, 1, 1])\n",
    "head_center = np.array([3, 2, 2])\n",
    "head_azimuth = 179\n",
    "walls = np.array([5, 5, 5])\n",
    "wtypes = 2\n",
    "\n",
    "for _ in tqdm.tqdm(range(1)):\n",
    "    x = room_impulse_hrtf(\n",
    "        src_loc,\n",
    "        head_center,\n",
    "        head_azimuth,\n",
    "        walls,\n",
    "        wtypes,\n",
    "        meas_sym=1,\n",
    "        f_samp=44100,\n",
    "        c_snd=344.5,\n",
    "        num_taps=22050,\n",
    "        log_dist=0,\n",
    "        jitter=1,\n",
    "        highpass=1,\n",
    "        dsply=0,\n",
    "        eng=eng)\n"
   ]
  },
  {
   "cell_type": "code",
   "execution_count": 8,
   "metadata": {},
   "outputs": [
    {
     "data": {
      "image/png": "[encoded data removed]",
      "text/plain": [
       "<Figure size 432x288 with 1 Axes>"
      ]
     },
     "metadata": {
      "needs_background": "light"
     },
     "output_type": "display_data"
    }
   ],
   "source": [
    "fig, ax = plt.subplots()\n",
    "ax.plot(np.array(x)[:, 0])\n",
    "ax.plot(np.array(x)[:, 1])\n",
    "util_figures.format_axes(\n",
    "    ax,\n",
    "    xlimits=[0, 200])\n",
    "plt.show()\n"
   ]
  },
  {
   "cell_type": "code",
   "execution_count": null,
   "metadata": {},
   "outputs": [],
   "source": []
  }
 ],
 "metadata": {
  "kernelspec": {
   "display_name": "Python 3",
   "language": "python",
   "name": "python3"
  },
  "language_info": {
   "codemirror_mode": {
    "name": "ipython",
    "version": 3
   },
   "file_extension": ".py",
   "mimetype": "text/x-python",
   "name": "python",
   "nbconvert_exporter": "python",
   "pygments_lexer": "ipython3",
   "version": "3.6.9"
  }
 },
 "nbformat": 4,
 "nbformat_minor": 2
}
